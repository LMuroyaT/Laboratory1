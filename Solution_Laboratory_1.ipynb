{
  "nbformat": 4,
  "nbformat_minor": 0,
  "metadata": {
    "colab": {
      "name": "Solution_Laboratory_1.ipynb",
      "provenance": [],
      "collapsed_sections": [],
      "toc_visible": true
    },
    "kernelspec": {
      "name": "python3",
      "display_name": "Python 3"
    }
  },
  "cells": [
    {
      "cell_type": "markdown",
      "metadata": {
        "id": "mi4vipWyQQ3e",
        "colab_type": "text"
      },
      "source": [
        "# Laboratory 1: Linear and Logistic Regression at Industry"
      ]
    },
    {
      "cell_type": "markdown",
      "metadata": {
        "id": "raVhwof3wxAs",
        "colab_type": "text"
      },
      "source": [
        "## Homework solution (5 points)"
      ]
    },
    {
      "cell_type": "markdown",
      "metadata": {
        "id": "Lzg0YB2Jw9nh",
        "colab_type": "text"
      },
      "source": [
        "## Theorical Part (5 points)"
      ]
    },
    {
      "cell_type": "markdown",
      "metadata": {
        "id": "w4nypQYgXnl7",
        "colab_type": "text"
      },
      "source": [
        "Answer the following questions:"
      ]
    },
    {
      "cell_type": "markdown",
      "metadata": {
        "id": "vH0pE_rNNFYC",
        "colab_type": "text"
      },
      "source": [
        "**Question 1 (1.0 point).** Write a resume to explain the workflow used in the guide to solve the first business case.(Max. 8 lines)"
      ]
    },
    {
      "cell_type": "markdown",
      "metadata": {
        "id": "M1eBdr-XxOax",
        "colab_type": "text"
      },
      "source": [
        "**Question 2 (0.5 points):** What's the importance of checking the frequency distribution of the target variable?"
      ]
    },
    {
      "cell_type": "markdown",
      "metadata": {
        "id": "Kyw-oZAIxjBz",
        "colab_type": "text"
      },
      "source": [
        "**Question 3 (0.5 points):** Explain the reason to split the dataset into training and test sets."
      ]
    },
    {
      "cell_type": "markdown",
      "metadata": {
        "id": "2XBL663OzPKV",
        "colab_type": "text"
      },
      "source": [
        "**Question 4 (1.0 point):** Why it is necessary to scale the features into values that go, for instance, between 0 and 1?"
      ]
    },
    {
      "cell_type": "markdown",
      "metadata": {
        "id": "VHothl1SzPVf",
        "colab_type": "text"
      },
      "source": [
        "**Question 5 (1.0 point):** In the first business case, 3 performance metrics were calculated (accuracy, precision and recall). If you were to choose one of them to assess your model, which one would you use and why?"
      ]
    },
    {
      "cell_type": "markdown",
      "metadata": {
        "id": "5WUVYukAzPco",
        "colab_type": "text"
      },
      "source": [
        "**Question 6 (1.0 point):** Hoy can the coefficients from the linear or logistic regression be interpreted?"
      ]
    },
    {
      "cell_type": "markdown",
      "metadata": {
        "id": "Tbx0FGTVQYRu",
        "colab_type": "text"
      },
      "source": [
        "## Business Case: Churn prediction (5 points)"
      ]
    },
    {
      "cell_type": "markdown",
      "metadata": {
        "id": "2rcANUnbQj9W",
        "colab_type": "text"
      },
      "source": [
        "### The context"
      ]
    },
    {
      "cell_type": "markdown",
      "metadata": {
        "id": "sN9PpAqNYn08",
        "colab_type": "text"
      },
      "source": [
        "Churn prediction is one of the most common problem that telecommunications companies want to address. However, it is one of the hardest. Churn is not other thing that clients walking away from the company. For example, when client A changes his line from operator X to Y. The reasons to try to predict this phenomena are obvious. Nonetheless, the problem becomes hard because there are many reasons that can push a client to leave the company. Some of the most common are:\n",
        "\n",
        "*   The client performs a \"portability\" transaction to another operator. This is called voluntary churn.\n",
        "*   The client stops paying his bills. Therefore, his lines become suspended and after 3 months the client is finally \"deactivated\" (ie. he/she is no longer considered a client). This is also called involuntary churn.\n",
        "\n",
        "Obviuously, a client can have more than one line in the company. However, in order to keep things simple, for the purposes of this laboratory, ***we wil consider that every client has only one line***. In this part of the laboratoy, we will develop a simple model to predict the churn."
      ]
    },
    {
      "cell_type": "markdown",
      "metadata": {
        "id": "-a1P4wl_uTz6",
        "colab_type": "text"
      },
      "source": [
        "### Part I: Create the model"
      ]
    },
    {
      "cell_type": "code",
      "metadata": {
        "id": "OtqTqwoN2Ai8",
        "colab_type": "code",
        "colab": {}
      },
      "source": [
        "import pandas as pd\n",
        "import numpy as np\n",
        "import matplotlib.pyplot as plt\n",
        "import seaborn as sn"
      ],
      "execution_count": 0,
      "outputs": []
    },
    {
      "cell_type": "markdown",
      "metadata": {
        "id": "icl-_hB1cHul",
        "colab_type": "text"
      },
      "source": [
        "**Question 7 (0.25 points):** the file 'JulyClients.csv' contains all the lines the company had by the end of July 19 and whether they performed voluntary churn, involuntary churn or none (they are still clients). The file has 16 columns:\n",
        "\n",
        "\n",
        "*   Client_ID: sequential code of the client.\n",
        "*   Debt_capacity: ammount of money a person can borrow from a bank.\n",
        "*   Income: ammount of money the client has to pay for his service.\n",
        "*   SMS_usage: number of SMS sent in the month.\n",
        "*   Debt_1M: debt from the previous month (M-1).\n",
        "*   Min_callcenter: total number of minutes of calls from the client to the callcenter.\n",
        "*   Client_time: measures how old is a line/contract with us.\n",
        "*   MB_usage: number of MB used.\n",
        "*   OTT_usage: number of MB used for OTTs.\n",
        "*   Debt: ammount of money debt in the current month.\n",
        "*   APP_usage: MB spent in the use of the company APP.\n",
        "*   VAS_usage: number of SMS sent to VAS services.\n",
        "*   Min_In_3M: number of calls a line received in the past 3 months.\n",
        "*   Avg_susp_time: average number of days a line remains suspended.\n",
        "*   Avg_days: average number of days after billing it takes for a line to pay.\n",
        "*   Min_Out_3M: number of calls a line made in the past 3 months.\n",
        "*   Churn: 0 -> No churn, 1 -> Involuntary churn, 0 -> Voluntary churn\n"
      ]
    },
    {
      "cell_type": "code",
      "metadata": {
        "id": "15eECRbAcHK_",
        "colab_type": "code",
        "colab": {}
      },
      "source": [
        "# Read the dataset\n",
        "# data = \n",
        "\n",
        "data = pd.read_csv('July_clients.csv', sep=';', encoding='utf-8', na_values=' ')\n",
        "\n",
        "assert (data.shape[0]==5000),'The data loaded is not complete (missing rows)'\n",
        "assert (data.shape[1]==17),'The data loaded is not complete (missing columns)'"
      ],
      "execution_count": 0,
      "outputs": []
    },
    {
      "cell_type": "markdown",
      "metadata": {
        "id": "pxUl8zArG2C5",
        "colab_type": "text"
      },
      "source": [
        "**Question 8 (0.25 points):** define the target variable and the feature vector."
      ]
    },
    {
      "cell_type": "code",
      "metadata": {
        "id": "30Qkdw2GHF0K",
        "colab_type": "code",
        "colab": {}
      },
      "source": [
        "target_variable = 'Churn'\n",
        "feature_vector = [x for x in data.columns if x not in [target_variable,'Client_ID']]\n",
        "\n",
        "assert target_variable != '', 'No target variable chosen'\n",
        "assert type(feature_vector)==list, 'feature_vector must be a list'\n",
        "assert len(feature_vector)==15, 'Wrong number of features'"
      ],
      "execution_count": 0,
      "outputs": []
    },
    {
      "cell_type": "markdown",
      "metadata": {
        "id": "RjAi5wF-fduk",
        "colab_type": "text"
      },
      "source": [
        "**Question 9 (0.25 points):** check the frequency distribution of the target variable. Is the dataset balanced or not?"
      ]
    },
    {
      "cell_type": "code",
      "metadata": {
        "id": "2vjI1_jw6FaQ",
        "colab_type": "code",
        "outputId": "cc6ad881-729d-407d-ac5d-ae9cc86e9f9c",
        "colab": {
          "base_uri": "https://localhost:8080/",
          "height": 85
        }
      },
      "source": [
        "# Check the target variable. \n",
        "# What are we checking here? Why is this important?\n",
        "data.Churn.value_counts()\n",
        "#Balanced between the three values"
      ],
      "execution_count": 4,
      "outputs": [
        {
          "output_type": "execute_result",
          "data": {
            "text/plain": [
              "1    1672\n",
              "2    1668\n",
              "0    1660\n",
              "Name: Churn, dtype: int64"
            ]
          },
          "metadata": {
            "tags": []
          },
          "execution_count": 4
        }
      ]
    },
    {
      "cell_type": "markdown",
      "metadata": {
        "id": "jtdBwu0UI2xs",
        "colab_type": "text"
      },
      "source": [
        "**Question 10 (0.25 points):** split the dataframe in two: the feature matrix and the target vector."
      ]
    },
    {
      "cell_type": "code",
      "metadata": {
        "id": "SMlrc03CI1jZ",
        "colab_type": "code",
        "colab": {}
      },
      "source": [
        "X = pd.DataFrame(data[feature_vector])\n",
        "y = pd.DataFrame(data[target_variable])"
      ],
      "execution_count": 0,
      "outputs": []
    },
    {
      "cell_type": "markdown",
      "metadata": {
        "id": "25IigYjYFo-P",
        "colab_type": "text"
      },
      "source": [
        "**Question 10 (0.50 points):** split the dataset in training and test set. Use 20% of the dataset for testing. If needed, use random_state=40."
      ]
    },
    {
      "cell_type": "code",
      "metadata": {
        "id": "CpCKlC6pGqo2",
        "colab_type": "code",
        "colab": {}
      },
      "source": [
        "from sklearn.model_selection import train_test_split\n",
        "X_train, X_test, y_train, y_test = train_test_split(X, y, test_size=0.2, random_state=40)"
      ],
      "execution_count": 0,
      "outputs": []
    },
    {
      "cell_type": "markdown",
      "metadata": {
        "id": "7ExLLVtZ6Fsc",
        "colab_type": "text"
      },
      "source": [
        "**Question 11 (0.25 points):** scale the feature values to a range of 0 to 1.\n"
      ]
    },
    {
      "cell_type": "code",
      "metadata": {
        "id": "mq7MhX3PfdD-",
        "colab_type": "code",
        "colab": {}
      },
      "source": [
        "from sklearn.preprocessing import MinMaxScaler\n",
        "scaler = MinMaxScaler()\n",
        "scaler.fit(X_train, y_train)\n",
        "X_train_s = scaler.transform(X_train)\n",
        "X_test_s = scaler.transform(X_test)"
      ],
      "execution_count": 0,
      "outputs": []
    },
    {
      "cell_type": "markdown",
      "metadata": {
        "id": "jjH_qc5eL5pv",
        "colab_type": "text"
      },
      "source": [
        "**Question 12 (0.25 points):** train a LogisticRegression classifier. Use the parameter multi_class = 'multinomial' and solver = 'sag'."
      ]
    },
    {
      "cell_type": "code",
      "metadata": {
        "id": "u8H2UpTpYnXt",
        "colab_type": "code",
        "outputId": "582a5e98-4315-4946-9f85-c121fd9f6395",
        "colab": {
          "base_uri": "https://localhost:8080/",
          "height": 102
        }
      },
      "source": [
        "from sklearn.linear_model import LogisticRegression\n",
        "clf = LogisticRegression(multi_class='multinomial', solver='sag')\n",
        "clf.fit(X_train_s, np.array(y_train).ravel())"
      ],
      "execution_count": 8,
      "outputs": [
        {
          "output_type": "execute_result",
          "data": {
            "text/plain": [
              "LogisticRegression(C=1.0, class_weight=None, dual=False, fit_intercept=True,\n",
              "                   intercept_scaling=1, l1_ratio=None, max_iter=100,\n",
              "                   multi_class='multinomial', n_jobs=None, penalty='l2',\n",
              "                   random_state=None, solver='sag', tol=0.0001, verbose=0,\n",
              "                   warm_start=False)"
            ]
          },
          "metadata": {
            "tags": []
          },
          "execution_count": 8
        }
      ]
    },
    {
      "cell_type": "markdown",
      "metadata": {
        "id": "HjV74yQtub-W",
        "colab_type": "text"
      },
      "source": [
        "### Part II: Assess the model"
      ]
    },
    {
      "cell_type": "markdown",
      "metadata": {
        "id": "kjSURjHXTMUO",
        "colab_type": "text"
      },
      "source": [
        "**Question 13 (1.0 point):** using the classifier, predict the class. However, this time, you must use the predict_proba method. If you don't find a way to do so and need to continue, you may use the predict method, but no points will be awarded in that case.\n",
        "**Suggestion:** check documentation on numpy argmax method."
      ]
    },
    {
      "cell_type": "code",
      "metadata": {
        "id": "EdL_XVl7TLOO",
        "colab_type": "code",
        "colab": {}
      },
      "source": [
        "y_pred_proba = clf.predict_proba(X_test_s)\n",
        "y_pred = np.argmax(np.array(y_pred_proba),axis=1)\n",
        "\n",
        "assert list(y_pred)== list(clf.predict(X_test_s)), 'Result does not match with predict method'"
      ],
      "execution_count": 0,
      "outputs": []
    },
    {
      "cell_type": "markdown",
      "metadata": {
        "id": "PJOxrY-MM-fd",
        "colab_type": "text"
      },
      "source": [
        "**Question 14 (0.50 points):** print the confusion matrix of the classifier. Also, evaluate the accuracy."
      ]
    },
    {
      "cell_type": "code",
      "metadata": {
        "id": "DD0MdNlkNRKb",
        "colab_type": "code",
        "colab": {}
      },
      "source": [
        "def print_confusion_matrix(confusion_matrix, accuracy):\n",
        "  import seaborn as sn\n",
        "  plt.figure(figsize=(10,7))\n",
        "  sn.heatmap(cm, annot=True, fmt='d')\n",
        "  plt.xlabel('Predicted')\n",
        "  plt.ylabel('True')\n",
        "  plt.title('Confusion matrix. Acc={}'.format(accuracy))\n",
        "  plt.show()  "
      ],
      "execution_count": 0,
      "outputs": []
    },
    {
      "cell_type": "code",
      "metadata": {
        "id": "XRoDfd9WLcpp",
        "colab_type": "code",
        "outputId": "8d976504-c761-4287-bfaa-6c33b822c6c2",
        "colab": {
          "base_uri": "https://localhost:8080/",
          "height": 458
        }
      },
      "source": [
        "from sklearn.metrics import accuracy_score, confusion_matrix\n",
        "cm = confusion_matrix(y_test, y_pred)\n",
        "ac = accuracy_score(y_test, y_pred)\n",
        "print_confusion_matrix(cm, ac)"
      ],
      "execution_count": 11,
      "outputs": [
        {
          "output_type": "display_data",
          "data": {
            "image/png": "[encoded data removed]",
            "text/plain": [
              "<Figure size 720x504 with 2 Axes>"
            ]
          },
          "metadata": {
            "tags": []
          }
        }
      ]
    },
    {
      "cell_type": "markdown",
      "metadata": {
        "id": "KtRfNTZJYcGH",
        "colab_type": "text"
      },
      "source": [
        "Everything done before is very nice for research purposes but in a company such jargon is not understandable for the managment (who are probably the sponsors of any analytics project). Therefore, another method must be used to convey the insights of the model. One way to do so is through the identification of the most important features for prediction. Hopefully, sklearn can give us a hand in that."
      ]
    },
    {
      "cell_type": "markdown",
      "metadata": {
        "id": "tr-aqUERZeHm",
        "colab_type": "text"
      },
      "source": [
        "**Question 15 (0.50 points):**  using sklearn SelectFromModel method (use prefit=True and max_features=10), identify which features are relevant and which are not. Do the results make sense to you?"
      ]
    },
    {
      "cell_type": "code",
      "metadata": {
        "id": "47VnUgRPZll6",
        "colab_type": "code",
        "outputId": "a67a35dc-aab5-49d2-d033-4c6c2e80a090",
        "colab": {
          "base_uri": "https://localhost:8080/",
          "height": 272
        }
      },
      "source": [
        "from sklearn.feature_selection import SelectFromModel\n",
        "select = SelectFromModel(clf, prefit=True, max_features=10)\n",
        "[x for x in zip(X.columns.values,select.get_support())]"
      ],
      "execution_count": 12,
      "outputs": [
        {
          "output_type": "execute_result",
          "data": {
            "text/plain": [
              "[('Debt_capacity', False),\n",
              " ('Income', True),\n",
              " ('SMS_usage', False),\n",
              " ('Debt_1M', False),\n",
              " ('Min_callcenter', True),\n",
              " ('client_time', True),\n",
              " ('MB_usage', True),\n",
              " ('OTT_usage', True),\n",
              " ('Debt', False),\n",
              " ('APP_usage', True),\n",
              " ('VAS_usage', False),\n",
              " ('Min_In_3M', True),\n",
              " ('Avg_susp_time', False),\n",
              " ('Avg_days', False),\n",
              " ('Min_Out_3M', True)]"
            ]
          },
          "metadata": {
            "tags": []
          },
          "execution_count": 12
        }
      ]
    },
    {
      "cell_type": "markdown",
      "metadata": {
        "id": "Iem5pLFOVzc9",
        "colab_type": "text"
      },
      "source": [
        "Suposse the company is trying to predict the voluntary churn (target=2). In order to do so, it is not only necessary to know which clients are likely to leave, it is also necessary to know the likelihood of that event to happen. Why? Because to prevent churn different accions should be taken according to the probability. Hence, is common practice in industry not to make prediction but to make inference (ie. calculate probability and use it as a score). Luckly, the classifier already gives us the probability (remember the predict_proba method?). \n",
        "\n"
      ]
    },
    {
      "cell_type": "markdown",
      "metadata": {
        "id": "vXX5vvLVXTSe",
        "colab_type": "text"
      },
      "source": [
        "**Question 16 (0.50 points):** using the predict_proba method, assign the correct score to each client. The output should be ONE dataframe containing the feature vector of the test set (without scaling) and the corresponding score. "
      ]
    },
    {
      "cell_type": "code",
      "metadata": {
        "id": "VEIaOmKJSthN",
        "colab_type": "code",
        "outputId": "74cf6062-5aad-46f8-8d37-36c7ff49b995",
        "colab": {
          "base_uri": "https://localhost:8080/",
          "height": 224
        }
      },
      "source": [
        "y_pred_proba = clf.predict_proba(X_test_s)\n",
        "voluntary_churn_scores = y_pred_proba[:,2]\n",
        "\n",
        "scored_base = X_test.copy()\n",
        "scored_base['score'] = voluntary_churn_scores\n",
        "scored_base.head()"
      ],
      "execution_count": 13,
      "outputs": [
        {
          "output_type": "execute_result",
          "data": {
            "text/html": [
              "<div>\n",
              "<style scoped>\n",
              "    .dataframe tbody tr th:only-of-type {\n",
              "        vertical-align: middle;\n",
              "    }\n",
              "\n",
              "    .dataframe tbody tr th {\n",
              "        vertical-align: top;\n",
              "    }\n",
              "\n",
              "    .dataframe thead th {\n",
              "        text-align: right;\n",
              "    }\n",
              "</style>\n",
              "<table border=\"1\" class=\"dataframe\">\n",
              "  <thead>\n",
              "    <tr style=\"text-align: right;\">\n",
              "      <th></th>\n",
              "      <th>Debt_capacity</th>\n",
              "      <th>Income</th>\n",
              "      <th>SMS_usage</th>\n",
              "      <th>Debt_1M</th>\n",
              "      <th>Min_callcenter</th>\n",
              "      <th>client_time</th>\n",
              "      <th>MB_usage</th>\n",
              "      <th>OTT_usage</th>\n",
              "      <th>Debt</th>\n",
              "      <th>APP_usage</th>\n",
              "      <th>VAS_usage</th>\n",
              "      <th>Min_In_3M</th>\n",
              "      <th>Avg_susp_time</th>\n",
              "      <th>Avg_days</th>\n",
              "      <th>Min_Out_3M</th>\n",
              "      <th>score</th>\n",
              "    </tr>\n",
              "  </thead>\n",
              "  <tbody>\n",
              "    <tr>\n",
              "      <th>4088</th>\n",
              "      <td>48.931958</td>\n",
              "      <td>53.153951</td>\n",
              "      <td>51.214573</td>\n",
              "      <td>52.441134</td>\n",
              "      <td>48.958625</td>\n",
              "      <td>47.495547</td>\n",
              "      <td>49.399342</td>\n",
              "      <td>48.221305</td>\n",
              "      <td>49.574454</td>\n",
              "      <td>49.285916</td>\n",
              "      <td>49.824292</td>\n",
              "      <td>51.306286</td>\n",
              "      <td>49.993403</td>\n",
              "      <td>48.843128</td>\n",
              "      <td>51.985201</td>\n",
              "      <td>0.037309</td>\n",
              "    </tr>\n",
              "    <tr>\n",
              "      <th>2080</th>\n",
              "      <td>50.265951</td>\n",
              "      <td>51.581128</td>\n",
              "      <td>50.941479</td>\n",
              "      <td>50.436770</td>\n",
              "      <td>51.166238</td>\n",
              "      <td>49.428768</td>\n",
              "      <td>50.566689</td>\n",
              "      <td>50.521368</td>\n",
              "      <td>51.344451</td>\n",
              "      <td>49.372821</td>\n",
              "      <td>49.236385</td>\n",
              "      <td>49.062696</td>\n",
              "      <td>49.962313</td>\n",
              "      <td>50.088023</td>\n",
              "      <td>50.572508</td>\n",
              "      <td>0.042118</td>\n",
              "    </tr>\n",
              "    <tr>\n",
              "      <th>41</th>\n",
              "      <td>51.613154</td>\n",
              "      <td>49.102787</td>\n",
              "      <td>50.978349</td>\n",
              "      <td>50.842939</td>\n",
              "      <td>47.982720</td>\n",
              "      <td>49.346362</td>\n",
              "      <td>48.987539</td>\n",
              "      <td>49.670139</td>\n",
              "      <td>50.525669</td>\n",
              "      <td>50.096377</td>\n",
              "      <td>50.250597</td>\n",
              "      <td>51.600845</td>\n",
              "      <td>50.917524</td>\n",
              "      <td>50.922625</td>\n",
              "      <td>49.837808</td>\n",
              "      <td>0.725755</td>\n",
              "    </tr>\n",
              "    <tr>\n",
              "      <th>796</th>\n",
              "      <td>49.550370</td>\n",
              "      <td>49.183137</td>\n",
              "      <td>50.983105</td>\n",
              "      <td>49.866601</td>\n",
              "      <td>50.805907</td>\n",
              "      <td>49.188410</td>\n",
              "      <td>49.169209</td>\n",
              "      <td>50.175708</td>\n",
              "      <td>51.038008</td>\n",
              "      <td>50.209463</td>\n",
              "      <td>52.071052</td>\n",
              "      <td>51.489104</td>\n",
              "      <td>49.302217</td>\n",
              "      <td>50.650342</td>\n",
              "      <td>50.577424</td>\n",
              "      <td>0.479009</td>\n",
              "    </tr>\n",
              "    <tr>\n",
              "      <th>354</th>\n",
              "      <td>48.490022</td>\n",
              "      <td>50.914590</td>\n",
              "      <td>49.684284</td>\n",
              "      <td>46.534117</td>\n",
              "      <td>48.825860</td>\n",
              "      <td>48.968947</td>\n",
              "      <td>48.108424</td>\n",
              "      <td>51.374878</td>\n",
              "      <td>49.091395</td>\n",
              "      <td>49.956876</td>\n",
              "      <td>48.204531</td>\n",
              "      <td>49.281935</td>\n",
              "      <td>48.849764</td>\n",
              "      <td>50.222629</td>\n",
              "      <td>50.773832</td>\n",
              "      <td>0.056961</td>\n",
              "    </tr>\n",
              "  </tbody>\n",
              "</table>\n",
              "</div>"
            ],
            "text/plain": [
              "      Debt_capacity     Income  SMS_usage  ...   Avg_days  Min_Out_3M     score\n",
              "4088      48.931958  53.153951  51.214573  ...  48.843128   51.985201  0.037309\n",
              "2080      50.265951  51.581128  50.941479  ...  50.088023   50.572508  0.042118\n",
              "41        51.613154  49.102787  50.978349  ...  50.922625   49.837808  0.725755\n",
              "796       49.550370  49.183137  50.983105  ...  50.650342   50.577424  0.479009\n",
              "354       48.490022  50.914590  49.684284  ...  50.222629   50.773832  0.056961\n",
              "\n",
              "[5 rows x 16 columns]"
            ]
          },
          "metadata": {
            "tags": []
          },
          "execution_count": 13
        }
      ]
    },
    {
      "cell_type": "markdown",
      "metadata": {
        "id": "OE-SxgrqtiwQ",
        "colab_type": "text"
      },
      "source": [
        "**Question 17 (0.50 points):** in order to evaluate the performance of the scoring, add the following columns to the dataframe generated before:\n",
        "\n",
        "*   target: the same values that y_test had.\n",
        "*   target_binary: must be an integer based on the target column. The value should be 1 is the target is 2 (voluntary churn) and 0 otherwise. **Suggestion**: check the numpy **where** function.\n",
        "\n"
      ]
    },
    {
      "cell_type": "code",
      "metadata": {
        "id": "uKFNiT8lX77r",
        "colab_type": "code",
        "colab": {}
      },
      "source": [
        "scored_base['group'] = pd.qcut(scored_base['score'],10,labels=range(1,11))\n",
        "scored_base['target'] = y_test\n",
        "scored_base['target_binary'] = np.where(scored_base.target==2,1,0)\n",
        "scored_base['counter'] = 1"
      ],
      "execution_count": 0,
      "outputs": []
    },
    {
      "cell_type": "code",
      "metadata": {
        "id": "wccZ5Az4cOht",
        "colab_type": "code",
        "outputId": "059932f4-b9f9-4c54-c5f2-6a93dc9f121a",
        "colab": {
          "base_uri": "https://localhost:8080/",
          "height": 224
        }
      },
      "source": [
        "scored_base.head()"
      ],
      "execution_count": 15,
      "outputs": [
        {
          "output_type": "execute_result",
          "data": {
            "text/html": [
              "<div>\n",
              "<style scoped>\n",
              "    .dataframe tbody tr th:only-of-type {\n",
              "        vertical-align: middle;\n",
              "    }\n",
              "\n",
              "    .dataframe tbody tr th {\n",
              "        vertical-align: top;\n",
              "    }\n",
              "\n",
              "    .dataframe thead th {\n",
              "        text-align: right;\n",
              "    }\n",
              "</style>\n",
              "<table border=\"1\" class=\"dataframe\">\n",
              "  <thead>\n",
              "    <tr style=\"text-align: right;\">\n",
              "      <th></th>\n",
              "      <th>Debt_capacity</th>\n",
              "      <th>Income</th>\n",
              "      <th>SMS_usage</th>\n",
              "      <th>Debt_1M</th>\n",
              "      <th>Min_callcenter</th>\n",
              "      <th>client_time</th>\n",
              "      <th>MB_usage</th>\n",
              "      <th>OTT_usage</th>\n",
              "      <th>Debt</th>\n",
              "      <th>APP_usage</th>\n",
              "      <th>VAS_usage</th>\n",
              "      <th>Min_In_3M</th>\n",
              "      <th>Avg_susp_time</th>\n",
              "      <th>Avg_days</th>\n",
              "      <th>Min_Out_3M</th>\n",
              "      <th>score</th>\n",
              "      <th>group</th>\n",
              "      <th>target</th>\n",
              "      <th>target_binary</th>\n",
              "      <th>counter</th>\n",
              "    </tr>\n",
              "  </thead>\n",
              "  <tbody>\n",
              "    <tr>\n",
              "      <th>4088</th>\n",
              "      <td>48.931958</td>\n",
              "      <td>53.153951</td>\n",
              "      <td>51.214573</td>\n",
              "      <td>52.441134</td>\n",
              "      <td>48.958625</td>\n",
              "      <td>47.495547</td>\n",
              "      <td>49.399342</td>\n",
              "      <td>48.221305</td>\n",
              "      <td>49.574454</td>\n",
              "      <td>49.285916</td>\n",
              "      <td>49.824292</td>\n",
              "      <td>51.306286</td>\n",
              "      <td>49.993403</td>\n",
              "      <td>48.843128</td>\n",
              "      <td>51.985201</td>\n",
              "      <td>0.037309</td>\n",
              "      <td>3</td>\n",
              "      <td>0</td>\n",
              "      <td>0</td>\n",
              "      <td>1</td>\n",
              "    </tr>\n",
              "    <tr>\n",
              "      <th>2080</th>\n",
              "      <td>50.265951</td>\n",
              "      <td>51.581128</td>\n",
              "      <td>50.941479</td>\n",
              "      <td>50.436770</td>\n",
              "      <td>51.166238</td>\n",
              "      <td>49.428768</td>\n",
              "      <td>50.566689</td>\n",
              "      <td>50.521368</td>\n",
              "      <td>51.344451</td>\n",
              "      <td>49.372821</td>\n",
              "      <td>49.236385</td>\n",
              "      <td>49.062696</td>\n",
              "      <td>49.962313</td>\n",
              "      <td>50.088023</td>\n",
              "      <td>50.572508</td>\n",
              "      <td>0.042118</td>\n",
              "      <td>3</td>\n",
              "      <td>0</td>\n",
              "      <td>0</td>\n",
              "      <td>1</td>\n",
              "    </tr>\n",
              "    <tr>\n",
              "      <th>41</th>\n",
              "      <td>51.613154</td>\n",
              "      <td>49.102787</td>\n",
              "      <td>50.978349</td>\n",
              "      <td>50.842939</td>\n",
              "      <td>47.982720</td>\n",
              "      <td>49.346362</td>\n",
              "      <td>48.987539</td>\n",
              "      <td>49.670139</td>\n",
              "      <td>50.525669</td>\n",
              "      <td>50.096377</td>\n",
              "      <td>50.250597</td>\n",
              "      <td>51.600845</td>\n",
              "      <td>50.917524</td>\n",
              "      <td>50.922625</td>\n",
              "      <td>49.837808</td>\n",
              "      <td>0.725755</td>\n",
              "      <td>9</td>\n",
              "      <td>2</td>\n",
              "      <td>1</td>\n",
              "      <td>1</td>\n",
              "    </tr>\n",
              "    <tr>\n",
              "      <th>796</th>\n",
              "      <td>49.550370</td>\n",
              "      <td>49.183137</td>\n",
              "      <td>50.983105</td>\n",
              "      <td>49.866601</td>\n",
              "      <td>50.805907</td>\n",
              "      <td>49.188410</td>\n",
              "      <td>49.169209</td>\n",
              "      <td>50.175708</td>\n",
              "      <td>51.038008</td>\n",
              "      <td>50.209463</td>\n",
              "      <td>52.071052</td>\n",
              "      <td>51.489104</td>\n",
              "      <td>49.302217</td>\n",
              "      <td>50.650342</td>\n",
              "      <td>50.577424</td>\n",
              "      <td>0.479009</td>\n",
              "      <td>7</td>\n",
              "      <td>2</td>\n",
              "      <td>1</td>\n",
              "      <td>1</td>\n",
              "    </tr>\n",
              "    <tr>\n",
              "      <th>354</th>\n",
              "      <td>48.490022</td>\n",
              "      <td>50.914590</td>\n",
              "      <td>49.684284</td>\n",
              "      <td>46.534117</td>\n",
              "      <td>48.825860</td>\n",
              "      <td>48.968947</td>\n",
              "      <td>48.108424</td>\n",
              "      <td>51.374878</td>\n",
              "      <td>49.091395</td>\n",
              "      <td>49.956876</td>\n",
              "      <td>48.204531</td>\n",
              "      <td>49.281935</td>\n",
              "      <td>48.849764</td>\n",
              "      <td>50.222629</td>\n",
              "      <td>50.773832</td>\n",
              "      <td>0.056961</td>\n",
              "      <td>3</td>\n",
              "      <td>1</td>\n",
              "      <td>0</td>\n",
              "      <td>1</td>\n",
              "    </tr>\n",
              "  </tbody>\n",
              "</table>\n",
              "</div>"
            ],
            "text/plain": [
              "      Debt_capacity     Income  SMS_usage  ...  target  target_binary  counter\n",
              "4088      48.931958  53.153951  51.214573  ...       0              0        1\n",
              "2080      50.265951  51.581128  50.941479  ...       0              0        1\n",
              "41        51.613154  49.102787  50.978349  ...       2              1        1\n",
              "796       49.550370  49.183137  50.983105  ...       2              1        1\n",
              "354       48.490022  50.914590  49.684284  ...       1              0        1\n",
              "\n",
              "[5 rows x 20 columns]"
            ]
          },
          "metadata": {
            "tags": []
          },
          "execution_count": 15
        }
      ]
    },
    {
      "cell_type": "markdown",
      "metadata": {
        "id": "h3e5wdkozJ7y",
        "colab_type": "text"
      },
      "source": [
        "### Part III: Lift curve (information)\n",
        "This part is just informative (it doesn't have any mark assigned). Read it after the laboratory finishes since it is important to understand how are models actually assessed."
      ]
    },
    {
      "cell_type": "markdown",
      "metadata": {
        "id": "MeTnsc9ExWNn",
        "colab_type": "text"
      },
      "source": [
        "To evaluate the performance of the model, we can use the lift curve. Such curve answers the following question: do the clients with higher scores really have greater risk to churn? To do so, first, we must order and divide the clients in deciles based on the score. This has already been done for you. After that, we have to get how many clients have churn and how many haven't (ie. success and fail). That is done in the following lines using pandas pivot_table function."
      ]
    },
    {
      "cell_type": "code",
      "metadata": {
        "id": "v5xftXiCcplx",
        "colab_type": "code",
        "colab": {}
      },
      "source": [
        "pivot = pd.pivot_table(scored_base, values='counter', index='group', columns='target_binary', aggfunc=np.sum).fillna(0)\n",
        "pivot.columns = ['No_churn','Churn']\n",
        "pivot['Total'] = pivot['Churn'] + pivot['No_churn']"
      ],
      "execution_count": 0,
      "outputs": []
    },
    {
      "cell_type": "markdown",
      "metadata": {
        "id": "Wx0gMHPZz8Tf",
        "colab_type": "text"
      },
      "source": [
        "After creating the pivot table, we calculate the percentage of success and the mean percentage of success. With that data, we calculate the \"lift\" of each decile by dividing the success percentage of the decile by the mean percentage of success. That way, the lift represents how many times is the success of each decile better than the average. As you may suspect, the higher decile (higher score), the higher the lift should be. This way, if we make a lineplot of the lift by decile, we should obtain a almost monotonic increasing line like the one obtained in the last figure."
      ]
    },
    {
      "cell_type": "code",
      "metadata": {
        "id": "18xQKxcTdkIF",
        "colab_type": "code",
        "colab": {}
      },
      "source": [
        "pivot['Pct'] = pivot['Churn']/pivot['Total']\n",
        "mean_pct = pivot['Pct'].mean()\n",
        "pivot['Lift'] = pivot['Pct']/mean_pct"
      ],
      "execution_count": 0,
      "outputs": []
    },
    {
      "cell_type": "code",
      "metadata": {
        "id": "d8i_4cOYfYos",
        "colab_type": "code",
        "outputId": "d8733fa0-b1ce-4788-fe69-a9d0887ba1e4",
        "colab": {
          "base_uri": "https://localhost:8080/",
          "height": 390
        }
      },
      "source": [
        "pivot"
      ],
      "execution_count": 18,
      "outputs": [
        {
          "output_type": "execute_result",
          "data": {
            "text/html": [
              "<div>\n",
              "<style scoped>\n",
              "    .dataframe tbody tr th:only-of-type {\n",
              "        vertical-align: middle;\n",
              "    }\n",
              "\n",
              "    .dataframe tbody tr th {\n",
              "        vertical-align: top;\n",
              "    }\n",
              "\n",
              "    .dataframe thead th {\n",
              "        text-align: right;\n",
              "    }\n",
              "</style>\n",
              "<table border=\"1\" class=\"dataframe\">\n",
              "  <thead>\n",
              "    <tr style=\"text-align: right;\">\n",
              "      <th></th>\n",
              "      <th>No_churn</th>\n",
              "      <th>Churn</th>\n",
              "      <th>Total</th>\n",
              "      <th>Pct</th>\n",
              "      <th>Lift</th>\n",
              "    </tr>\n",
              "    <tr>\n",
              "      <th>group</th>\n",
              "      <th></th>\n",
              "      <th></th>\n",
              "      <th></th>\n",
              "      <th></th>\n",
              "      <th></th>\n",
              "    </tr>\n",
              "  </thead>\n",
              "  <tbody>\n",
              "    <tr>\n",
              "      <th>1</th>\n",
              "      <td>100.0</td>\n",
              "      <td>0.0</td>\n",
              "      <td>100.0</td>\n",
              "      <td>0.00</td>\n",
              "      <td>0.000000</td>\n",
              "    </tr>\n",
              "    <tr>\n",
              "      <th>2</th>\n",
              "      <td>99.0</td>\n",
              "      <td>1.0</td>\n",
              "      <td>100.0</td>\n",
              "      <td>0.01</td>\n",
              "      <td>0.030488</td>\n",
              "    </tr>\n",
              "    <tr>\n",
              "      <th>3</th>\n",
              "      <td>100.0</td>\n",
              "      <td>0.0</td>\n",
              "      <td>100.0</td>\n",
              "      <td>0.00</td>\n",
              "      <td>0.000000</td>\n",
              "    </tr>\n",
              "    <tr>\n",
              "      <th>4</th>\n",
              "      <td>99.0</td>\n",
              "      <td>1.0</td>\n",
              "      <td>100.0</td>\n",
              "      <td>0.01</td>\n",
              "      <td>0.030488</td>\n",
              "    </tr>\n",
              "    <tr>\n",
              "      <th>5</th>\n",
              "      <td>94.0</td>\n",
              "      <td>6.0</td>\n",
              "      <td>100.0</td>\n",
              "      <td>0.06</td>\n",
              "      <td>0.182927</td>\n",
              "    </tr>\n",
              "    <tr>\n",
              "      <th>6</th>\n",
              "      <td>85.0</td>\n",
              "      <td>15.0</td>\n",
              "      <td>100.0</td>\n",
              "      <td>0.15</td>\n",
              "      <td>0.457317</td>\n",
              "    </tr>\n",
              "    <tr>\n",
              "      <th>7</th>\n",
              "      <td>46.0</td>\n",
              "      <td>54.0</td>\n",
              "      <td>100.0</td>\n",
              "      <td>0.54</td>\n",
              "      <td>1.646341</td>\n",
              "    </tr>\n",
              "    <tr>\n",
              "      <th>8</th>\n",
              "      <td>19.0</td>\n",
              "      <td>81.0</td>\n",
              "      <td>100.0</td>\n",
              "      <td>0.81</td>\n",
              "      <td>2.469512</td>\n",
              "    </tr>\n",
              "    <tr>\n",
              "      <th>9</th>\n",
              "      <td>14.0</td>\n",
              "      <td>86.0</td>\n",
              "      <td>100.0</td>\n",
              "      <td>0.86</td>\n",
              "      <td>2.621951</td>\n",
              "    </tr>\n",
              "    <tr>\n",
              "      <th>10</th>\n",
              "      <td>16.0</td>\n",
              "      <td>84.0</td>\n",
              "      <td>100.0</td>\n",
              "      <td>0.84</td>\n",
              "      <td>2.560976</td>\n",
              "    </tr>\n",
              "  </tbody>\n",
              "</table>\n",
              "</div>"
            ],
            "text/plain": [
              "       No_churn  Churn  Total   Pct      Lift\n",
              "group                                        \n",
              "1         100.0    0.0  100.0  0.00  0.000000\n",
              "2          99.0    1.0  100.0  0.01  0.030488\n",
              "3         100.0    0.0  100.0  0.00  0.000000\n",
              "4          99.0    1.0  100.0  0.01  0.030488\n",
              "5          94.0    6.0  100.0  0.06  0.182927\n",
              "6          85.0   15.0  100.0  0.15  0.457317\n",
              "7          46.0   54.0  100.0  0.54  1.646341\n",
              "8          19.0   81.0  100.0  0.81  2.469512\n",
              "9          14.0   86.0  100.0  0.86  2.621951\n",
              "10         16.0   84.0  100.0  0.84  2.560976"
            ]
          },
          "metadata": {
            "tags": []
          },
          "execution_count": 18
        }
      ]
    },
    {
      "cell_type": "code",
      "metadata": {
        "id": "HamDznZ5eG3V",
        "colab_type": "code",
        "outputId": "a64fa589-bd3e-493b-ce88-c6173b918439",
        "colab": {
          "base_uri": "https://localhost:8080/",
          "height": 295
        }
      },
      "source": [
        "plt.plot(range(1,11),pivot['Lift'])\n",
        "plt.xlabel('Decile group')\n",
        "plt.title('Logistic model lift curve')\n",
        "plt.show()"
      ],
      "execution_count": 21,
      "outputs": [
        {
          "output_type": "display_data",
          "data": {
            "image/png": "[encoded data removed]",
            "text/plain": [
              "<Figure size 432x288 with 1 Axes>"
            ]
          },
          "metadata": {
            "tags": []
          }
        }
      ]
    },
    {
      "cell_type": "markdown",
      "metadata": {
        "id": "g7aVKRwo08--",
        "colab_type": "text"
      },
      "source": [
        "As can be seen from this image, the model is working. It is correctly assigning higher scores to clients that actually churn. A bad scoring model would present a non-monotonic behaviour."
      ]
    },
    {
      "cell_type": "markdown",
      "metadata": {
        "colab_type": "text",
        "id": "4SZ4ieHjunc7"
      },
      "source": [
        "## Physical Case: System Identification (5 points)"
      ]
    },
    {
      "cell_type": "markdown",
      "metadata": {
        "colab_type": "text",
        "id": "HI5eJbZGunc_"
      },
      "source": [
        "### The context"
      ]
    },
    {
      "cell_type": "markdown",
      "metadata": {
        "colab_type": "text",
        "id": "8Hn_pKHTundA"
      },
      "source": [
        "In Control and Automation Engineering, a *plant* is a physical system with inputs and outputs that must be regulated in order to have a desired behaviour.\n",
        "\n",
        "A DC motor is one of the most common actuators present in industry. In order to control a system that includes a DC motor, we need to have an appropiate mathematical model of it. In this section of the lab, we are going to find the parameters of a DC motor with a *linear regression* approach."
      ]
    },
    {
      "cell_type": "markdown",
      "metadata": {
        "id": "IPjpxvfaOZ5k",
        "colab_type": "text"
      },
      "source": [
        "![DC motor modelling](data:image/png;base64,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)"
      ]
    },
    {
      "cell_type": "markdown",
      "metadata": {
        "id": "Kt7PGsrXR5Op",
        "colab_type": "text"
      },
      "source": [
        "In the figure above, the DC motor is divided in 2 sections, so that we can get the equations we need. We are going to apply the knowledge we got from our physics courses in order to model the plant.\n",
        "\n",
        "Where:\n",
        "* $v_a= $ `u_a`: Is the input voltage to the motor. In volts.\n",
        "* $R$: Is an ohmic resistor, which represents the electrical resistance of the internal motor coil. In ohms.\n",
        "* $L$: Is the equivalent inductance of the motor. In henries.\n",
        "* $v_b$: Is the electromotive force. In volts.\n",
        "* $i_a = I$: Is the electrical current of the circuit. In amperes.\n",
        "* $K_b$: Is the motor's back-emf constant. In $V\\,s/rad$.\n",
        "* $J$: Is the moment of inertia. In $kg\\,m^2$.\n",
        "* $\\theta = $ `theta`: Is the axis angle. In radians.\n",
        "* $\\omega = $ `theta_p`: Is the axis angular speed. In $rad/s$.\n",
        "* $\\alpha = $ `theta_pp`: Is the axis angular acceleration. In $rad/s^2$.\n",
        "* $T_m$: Is the output torque. In $N\\,m$.\n",
        "* $B$: Is the viscous friction coefficient.\n",
        "* $T_d$: Is the disturbance torque. In $N\\,m$. **For this lab, it will be considered negligible**.\n",
        "\n",
        "Consider that the input of the system is the voltage $v_a$, so it is a known signal.\n",
        "\n",
        "From the electrical perspective, applying Kirchhoff's Voltage Law, we have:\n",
        "\n",
        "$\\sum V = 0$\n",
        "\n",
        "Replacing the relations for the voltage at each element:\n",
        "\n",
        "$u_a = I R + L \\dot I+K_b \\omega$\n",
        "\n",
        "From the mechanical perspective, applying Newton's Law for angular dynamic equilibrium, we have:\n",
        "\n",
        "$\\sum T = 0$\n",
        "\n",
        "Replacing terms we get:\n",
        "\n",
        "$T_m-f=J\\, \\ddot \\theta$"
      ]
    },
    {
      "cell_type": "markdown",
      "metadata": {
        "id": "AksVozpLs9ie",
        "colab_type": "text"
      },
      "source": [
        "### Part I"
      ]
    },
    {
      "cell_type": "code",
      "metadata": {
        "colab_type": "code",
        "id": "MMEQWcFvundD",
        "colab": {}
      },
      "source": [
        "import pandas as pd\n",
        "import numpy as np\n",
        "#import matplotlib.pyplot as plt\n",
        "import seaborn as sn"
      ],
      "execution_count": 0,
      "outputs": []
    },
    {
      "cell_type": "markdown",
      "metadata": {
        "colab_type": "text",
        "id": "AMf4emfkundH"
      },
      "source": [
        "The file 'motorData.csv' contains the measured data of the motor. The input applied is a unitary step signal.\n",
        "\n",
        "\n",
        "Consider that the electrical resistance $R=5.35\\, \\Omega$ was measured with a multimeter."
      ]
    },
    {
      "cell_type": "code",
      "metadata": {
        "id": "3YzSDAYZHXhW",
        "colab_type": "code",
        "colab": {}
      },
      "source": [
        "# Read the dataset\n",
        "dataset = pd.read_csv('motorData.csv',\n",
        "                      sep=',',\n",
        "                      encoding='utf-8',\n",
        "                      na_values=' ')"
      ],
      "execution_count": 0,
      "outputs": []
    },
    {
      "cell_type": "code",
      "metadata": {
        "id": "WtGmnWgGHgmW",
        "colab_type": "code",
        "outputId": "665ab18c-5106-4d9f-b341-a4d7a024a78d",
        "colab": {
          "base_uri": "https://localhost:8080/",
          "height": 297
        }
      },
      "source": [
        "dataset.describe()"
      ],
      "execution_count": 24,
      "outputs": [
        {
          "output_type": "execute_result",
          "data": {
            "text/html": [
              "<div>\n",
              "<style scoped>\n",
              "    .dataframe tbody tr th:only-of-type {\n",
              "        vertical-align: middle;\n",
              "    }\n",
              "\n",
              "    .dataframe tbody tr th {\n",
              "        vertical-align: top;\n",
              "    }\n",
              "\n",
              "    .dataframe thead th {\n",
              "        text-align: right;\n",
              "    }\n",
              "</style>\n",
              "<table border=\"1\" class=\"dataframe\">\n",
              "  <thead>\n",
              "    <tr style=\"text-align: right;\">\n",
              "      <th></th>\n",
              "      <th>I</th>\n",
              "      <th>Ip</th>\n",
              "      <th>theta</th>\n",
              "      <th>theta_p</th>\n",
              "      <th>theta_pp</th>\n",
              "      <th>u_a</th>\n",
              "    </tr>\n",
              "  </thead>\n",
              "  <tbody>\n",
              "    <tr>\n",
              "      <th>count</th>\n",
              "      <td>4065.000000</td>\n",
              "      <td>4065.000000</td>\n",
              "      <td>4065.000000</td>\n",
              "      <td>4065.000000</td>\n",
              "      <td>4065.000000</td>\n",
              "      <td>4065.0</td>\n",
              "    </tr>\n",
              "    <tr>\n",
              "      <th>mean</th>\n",
              "      <td>0.152672</td>\n",
              "      <td>34.918433</td>\n",
              "      <td>0.002687</td>\n",
              "      <td>1.454860</td>\n",
              "      <td>431.744202</td>\n",
              "      <td>1.0</td>\n",
              "    </tr>\n",
              "    <tr>\n",
              "      <th>std</th>\n",
              "      <td>0.039215</td>\n",
              "      <td>58.424004</td>\n",
              "      <td>0.002287</td>\n",
              "      <td>0.696847</td>\n",
              "      <td>310.771878</td>\n",
              "      <td>0.0</td>\n",
              "    </tr>\n",
              "    <tr>\n",
              "      <th>min</th>\n",
              "      <td>0.000000</td>\n",
              "      <td>-0.417269</td>\n",
              "      <td>0.000000</td>\n",
              "      <td>0.000000</td>\n",
              "      <td>0.000000</td>\n",
              "      <td>1.0</td>\n",
              "    </tr>\n",
              "    <tr>\n",
              "      <th>25%</th>\n",
              "      <td>0.150240</td>\n",
              "      <td>-0.160099</td>\n",
              "      <td>0.000491</td>\n",
              "      <td>0.936599</td>\n",
              "      <td>134.578973</td>\n",
              "      <td>1.0</td>\n",
              "    </tr>\n",
              "    <tr>\n",
              "      <th>50%</th>\n",
              "      <td>0.173019</td>\n",
              "      <td>4.959191</td>\n",
              "      <td>0.002223</td>\n",
              "      <td>1.735999</td>\n",
              "      <td>364.933920</td>\n",
              "      <td>1.0</td>\n",
              "    </tr>\n",
              "    <tr>\n",
              "      <th>75%</th>\n",
              "      <td>0.174686</td>\n",
              "      <td>42.397455</td>\n",
              "      <td>0.004627</td>\n",
              "      <td>2.055703</td>\n",
              "      <td>731.544687</td>\n",
              "      <td>1.0</td>\n",
              "    </tr>\n",
              "    <tr>\n",
              "      <th>max</th>\n",
              "      <td>0.174904</td>\n",
              "      <td>254.452926</td>\n",
              "      <td>0.007273</td>\n",
              "      <td>2.158674</td>\n",
              "      <td>942.532515</td>\n",
              "      <td>1.0</td>\n",
              "    </tr>\n",
              "  </tbody>\n",
              "</table>\n",
              "</div>"
            ],
            "text/plain": [
              "                 I           Ip        theta      theta_p     theta_pp     u_a\n",
              "count  4065.000000  4065.000000  4065.000000  4065.000000  4065.000000  4065.0\n",
              "mean      0.152672    34.918433     0.002687     1.454860   431.744202     1.0\n",
              "std       0.039215    58.424004     0.002287     0.696847   310.771878     0.0\n",
              "min       0.000000    -0.417269     0.000000     0.000000     0.000000     1.0\n",
              "25%       0.150240    -0.160099     0.000491     0.936599   134.578973     1.0\n",
              "50%       0.173019     4.959191     0.002223     1.735999   364.933920     1.0\n",
              "75%       0.174686    42.397455     0.004627     2.055703   731.544687     1.0\n",
              "max       0.174904   254.452926     0.007273     2.158674   942.532515     1.0"
            ]
          },
          "metadata": {
            "tags": []
          },
          "execution_count": 24
        }
      ]
    },
    {
      "cell_type": "markdown",
      "metadata": {
        "id": "f7fU-QKuj6gr",
        "colab_type": "text"
      },
      "source": [
        "Using only the given equations from the electrical analysis done above, formulate the linear relation between the variables, in order to define your *hypotesis function* $h_\\theta$ (acording to the slides given at the theorical classes). Write it down **(1.0 marks)**."
      ]
    },
    {
      "cell_type": "markdown",
      "metadata": {
        "id": "3KFkxO62HOQB",
        "colab_type": "text"
      },
      "source": [
        "$h_\\theta \\equiv I R = u_a - L \\dot I-K_b \\omega$"
      ]
    },
    {
      "cell_type": "markdown",
      "metadata": {
        "id": "VsitcQYFnb1y",
        "colab_type": "text"
      },
      "source": [
        "Then, create a new ***numpy*** array that has only the relevant feature columns **(0.5 marks)**."
      ]
    },
    {
      "cell_type": "code",
      "metadata": {
        "id": "HYJZs678x4Zb",
        "colab_type": "code",
        "colab": {
          "base_uri": "https://localhost:8080/",
          "height": 297
        },
        "outputId": "515299a4-71a7-4598-aeca-74ab03f2bb8a"
      },
      "source": [
        "#The required columns are 'I','Ip','theta_p'\n",
        "dataForH = dataset[['Ip','theta_p','u_a']]\n",
        "dataForH.describe()"
      ],
      "execution_count": 25,
      "outputs": [
        {
          "output_type": "execute_result",
          "data": {
            "text/html": [
              "<div>\n",
              "<style scoped>\n",
              "    .dataframe tbody tr th:only-of-type {\n",
              "        vertical-align: middle;\n",
              "    }\n",
              "\n",
              "    .dataframe tbody tr th {\n",
              "        vertical-align: top;\n",
              "    }\n",
              "\n",
              "    .dataframe thead th {\n",
              "        text-align: right;\n",
              "    }\n",
              "</style>\n",
              "<table border=\"1\" class=\"dataframe\">\n",
              "  <thead>\n",
              "    <tr style=\"text-align: right;\">\n",
              "      <th></th>\n",
              "      <th>Ip</th>\n",
              "      <th>theta_p</th>\n",
              "      <th>u_a</th>\n",
              "    </tr>\n",
              "  </thead>\n",
              "  <tbody>\n",
              "    <tr>\n",
              "      <th>count</th>\n",
              "      <td>4065.000000</td>\n",
              "      <td>4065.000000</td>\n",
              "      <td>4065.0</td>\n",
              "    </tr>\n",
              "    <tr>\n",
              "      <th>mean</th>\n",
              "      <td>34.918433</td>\n",
              "      <td>1.454860</td>\n",
              "      <td>1.0</td>\n",
              "    </tr>\n",
              "    <tr>\n",
              "      <th>std</th>\n",
              "      <td>58.424004</td>\n",
              "      <td>0.696847</td>\n",
              "      <td>0.0</td>\n",
              "    </tr>\n",
              "    <tr>\n",
              "      <th>min</th>\n",
              "      <td>-0.417269</td>\n",
              "      <td>0.000000</td>\n",
              "      <td>1.0</td>\n",
              "    </tr>\n",
              "    <tr>\n",
              "      <th>25%</th>\n",
              "      <td>-0.160099</td>\n",
              "      <td>0.936599</td>\n",
              "      <td>1.0</td>\n",
              "    </tr>\n",
              "    <tr>\n",
              "      <th>50%</th>\n",
              "      <td>4.959191</td>\n",
              "      <td>1.735999</td>\n",
              "      <td>1.0</td>\n",
              "    </tr>\n",
              "    <tr>\n",
              "      <th>75%</th>\n",
              "      <td>42.397455</td>\n",
              "      <td>2.055703</td>\n",
              "      <td>1.0</td>\n",
              "    </tr>\n",
              "    <tr>\n",
              "      <th>max</th>\n",
              "      <td>254.452926</td>\n",
              "      <td>2.158674</td>\n",
              "      <td>1.0</td>\n",
              "    </tr>\n",
              "  </tbody>\n",
              "</table>\n",
              "</div>"
            ],
            "text/plain": [
              "                Ip      theta_p     u_a\n",
              "count  4065.000000  4065.000000  4065.0\n",
              "mean     34.918433     1.454860     1.0\n",
              "std      58.424004     0.696847     0.0\n",
              "min      -0.417269     0.000000     1.0\n",
              "25%      -0.160099     0.936599     1.0\n",
              "50%       4.959191     1.735999     1.0\n",
              "75%      42.397455     2.055703     1.0\n",
              "max     254.452926     2.158674     1.0"
            ]
          },
          "metadata": {
            "tags": []
          },
          "execution_count": 25
        }
      ]
    },
    {
      "cell_type": "code",
      "metadata": {
        "id": "MlL8w300x8AT",
        "colab_type": "code",
        "colab": {
          "base_uri": "https://localhost:8080/",
          "height": 34
        },
        "outputId": "e24da4a6-99d5-4619-db65-d70287c3a00f"
      },
      "source": [
        "datos = dataForH.values #para verificar si los alumnos consiguieron los valores\n",
        "#correctos, se pueden comparar las sumas en los ejes 0 y 1\n",
        "datos.sum(axis=0)"
      ],
      "execution_count": 26,
      "outputs": [
        {
          "output_type": "execute_result",
          "data": {
            "text/plain": [
              "array([141943.43114382,   5914.00463797,   4065.        ])"
            ]
          },
          "metadata": {
            "tags": []
          },
          "execution_count": 26
        }
      ]
    },
    {
      "cell_type": "code",
      "metadata": {
        "id": "QJyrylCHx_il",
        "colab_type": "code",
        "colab": {
          "base_uri": "https://localhost:8080/",
          "height": 51
        },
        "outputId": "6d79ee85-65ac-43f4-f49f-3ccb4b3e60b8"
      },
      "source": [
        "datos.sum(axis=1)"
      ],
      "execution_count": 27,
      "outputs": [
        {
          "output_type": "execute_result",
          "data": {
            "text/plain": [
              "array([255.4529262 , 255.02720421, 254.60216343, ...,   2.79262957,\n",
              "         2.79287796,   2.79312647])"
            ]
          },
          "metadata": {
            "tags": []
          },
          "execution_count": 27
        }
      ]
    },
    {
      "cell_type": "markdown",
      "metadata": {
        "id": "vPCjeK39lkgP",
        "colab_type": "text"
      },
      "source": [
        "Using the [sklearn](https://scikit-learn.org/stable/modules/generated/sklearn.linear_model.LinearRegression.html) **Multiclass Linear Regressor**, train a model in order to find the values for the electrical motor coefficients. Then, write them down **(1.5 marks)**."
      ]
    },
    {
      "cell_type": "code",
      "metadata": {
        "id": "MpZBfA-7yEN-",
        "colab_type": "code",
        "colab": {
          "base_uri": "https://localhost:8080/",
          "height": 34
        },
        "outputId": "a39b6818-550e-4908-c416-114b1c539778"
      },
      "source": [
        "#import numpy as np\n",
        "from sklearn.linear_model import LinearRegression\n",
        "X = datos\n",
        "X.shape"
      ],
      "execution_count": 28,
      "outputs": [
        {
          "output_type": "execute_result",
          "data": {
            "text/plain": [
              "(4065, 3)"
            ]
          },
          "metadata": {
            "tags": []
          },
          "execution_count": 28
        }
      ]
    },
    {
      "cell_type": "code",
      "metadata": {
        "id": "urCPLRKvyEqr",
        "colab_type": "code",
        "colab": {
          "base_uri": "https://localhost:8080/",
          "height": 34
        },
        "outputId": "da59cf7e-9127-47b2-ceb4-2cfc14eb76dd"
      },
      "source": [
        "u_a = dataset.values[:,5] #otra forma: u_a = datos[:,2]\n",
        "u_a.shape"
      ],
      "execution_count": 29,
      "outputs": [
        {
          "output_type": "execute_result",
          "data": {
            "text/plain": [
              "(4065,)"
            ]
          },
          "metadata": {
            "tags": []
          },
          "execution_count": 29
        }
      ]
    },
    {
      "cell_type": "code",
      "metadata": {
        "id": "QfWAKGMZyGNM",
        "colab_type": "code",
        "colab": {
          "base_uri": "https://localhost:8080/",
          "height": 34
        },
        "outputId": "8183a4e9-0375-459f-e618-937a70649880"
      },
      "source": [
        "u_a-datos[:,2] #son el mismo vector"
      ],
      "execution_count": 30,
      "outputs": [
        {
          "output_type": "execute_result",
          "data": {
            "text/plain": [
              "array([0., 0., 0., ..., 0., 0., 0.])"
            ]
          },
          "metadata": {
            "tags": []
          },
          "execution_count": 30
        }
      ]
    },
    {
      "cell_type": "code",
      "metadata": {
        "id": "xeisJNFbyHjO",
        "colab_type": "code",
        "colab": {
          "base_uri": "https://localhost:8080/",
          "height": 34
        },
        "outputId": "c34a76cb-fa88-4c9d-f7d9-7997685fb1db"
      },
      "source": [
        "y = 5.35*dataset.values[:,0] #y=5.35*I\n",
        "reg = LinearRegression().fit(X,y)\n",
        "reg.score(X,y)"
      ],
      "execution_count": 31,
      "outputs": [
        {
          "output_type": "execute_result",
          "data": {
            "text/plain": [
              "1.0"
            ]
          },
          "metadata": {
            "tags": []
          },
          "execution_count": 31
        }
      ]
    },
    {
      "cell_type": "code",
      "metadata": {
        "id": "I1RCzhMByI6O",
        "colab_type": "code",
        "colab": {
          "base_uri": "https://localhost:8080/",
          "height": 34
        },
        "outputId": "5261c0f3-0b8a-4535-bc4f-6a16a037e961"
      },
      "source": [
        "reg.coef_, reg.intercept_"
      ],
      "execution_count": 32,
      "outputs": [
        {
          "output_type": "execute_result",
          "data": {
            "text/plain": [
              "(array([-0.00393, -0.0316 ,  0.     ]), 0.9999999998851474)"
            ]
          },
          "metadata": {
            "tags": []
          },
          "execution_count": 32
        }
      ]
    },
    {
      "cell_type": "markdown",
      "metadata": {
        "id": "WrI21MflniAQ",
        "colab_type": "text"
      },
      "source": [
        "In order to make your code more general and scalable, write a program that receives an *sklearn.linear_model* object and prints the  values of the motor coefficients. You need to access the internal information of the models when you use external libraries **(1.0 marks)**."
      ]
    },
    {
      "cell_type": "code",
      "metadata": {
        "id": "crFNoHshn2tC",
        "colab_type": "code",
        "outputId": "ed7077f9-81f5-4a9d-de21-80a8a713de2b",
        "colab": {
          "base_uri": "https://localhost:8080/",
          "height": 34
        }
      },
      "source": [
        "def printCoefficients(regressorModel):\n",
        "  #Internal Variables:\n",
        "  param_1 = 5.35;#Dato del problema!\n",
        "  param_i = -regressorModel.coef_[0];#Cuidado con el signo\n",
        "  param_n = -regressorModel.coef_[1];#Cuidado con el signo\n",
        "  \n",
        "  #Output\n",
        "  #print(\"The system parameters are: R =\",param_1,\", Param_i =\",param_i,\"and Param_n =\",param_n)\n",
        "  \n",
        "  print(\"The system parameters are: R =\",param_1,\", L =\",param_i,\"and K_b =\",param_n)\n",
        "  \n",
        "printCoefficients(reg)"
      ],
      "execution_count": 33,
      "outputs": [
        {
          "output_type": "stream",
          "text": [
            "The system parameters are: R = 5.35 , L = 0.0039299999989749765 and K_b = 0.03159999997730316\n"
          ],
          "name": "stdout"
        }
      ]
    },
    {
      "cell_type": "markdown",
      "metadata": {
        "id": "_PlFXCB7tjpY",
        "colab_type": "text"
      },
      "source": [
        "### Part II"
      ]
    },
    {
      "cell_type": "markdown",
      "metadata": {
        "id": "w3an_GvBqJjw",
        "colab_type": "text"
      },
      "source": [
        "Make the following graphs, with two features each one. The relations between the features are linear?"
      ]
    },
    {
      "cell_type": "code",
      "metadata": {
        "id": "d8zrZDhyzUHc",
        "colab_type": "code",
        "colab": {}
      },
      "source": [
        "import seaborn as sns"
      ],
      "execution_count": 0,
      "outputs": []
    },
    {
      "cell_type": "code",
      "metadata": {
        "id": "neY7WYmWrwAV",
        "colab_type": "code",
        "outputId": "c7d09569-0458-47d5-d0cf-98ec444e0fb7",
        "colab": {
          "base_uri": "https://localhost:8080/",
          "height": 458
        }
      },
      "source": [
        "sns.jointplot(x='I',y='theta_p',data=dataset)"
      ],
      "execution_count": 38,
      "outputs": [
        {
          "output_type": "execute_result",
          "data": {
            "text/plain": [
              "<seaborn.axisgrid.JointGrid at 0x7f9f99d0a710>"
            ]
          },
          "metadata": {
            "tags": []
          },
          "execution_count": 38
        },
        {
          "output_type": "display_data",
          "data": {
            "image/png": "[encoded data removed]",
            "text/plain": [
              "<Figure size 432x432 with 3 Axes>"
            ]
          },
          "metadata": {
            "tags": []
          }
        }
      ]
    },
    {
      "cell_type": "code",
      "metadata": {
        "id": "CXZrNNlcsNRu",
        "colab_type": "code",
        "outputId": "8103d71c-2827-401a-9c65-ea3f8ec13feb",
        "colab": {
          "base_uri": "https://localhost:8080/",
          "height": 458
        }
      },
      "source": [
        "sns.jointplot(x='Ip',y='theta_pp',data=dataset)"
      ],
      "execution_count": 39,
      "outputs": [
        {
          "output_type": "execute_result",
          "data": {
            "text/plain": [
              "<seaborn.axisgrid.JointGrid at 0x7f9f99b356d8>"
            ]
          },
          "metadata": {
            "tags": []
          },
          "execution_count": 39
        },
        {
          "output_type": "display_data",
          "data": {
            "image/png": "[encoded data removed]",
            "text/plain": [
              "<Figure size 432x432 with 3 Axes>"
            ]
          },
          "metadata": {
            "tags": []
          }
        }
      ]
    },
    {
      "cell_type": "code",
      "metadata": {
        "id": "yz5JpsG0sLEv",
        "colab_type": "code",
        "outputId": "2544b306-b396-4fcf-b33f-be2972308697",
        "colab": {
          "base_uri": "https://localhost:8080/",
          "height": 458
        }
      },
      "source": [
        "sns.jointplot(x='Ip',y='theta_p',data=dataset)"
      ],
      "execution_count": 40,
      "outputs": [
        {
          "output_type": "execute_result",
          "data": {
            "text/plain": [
              "<seaborn.axisgrid.JointGrid at 0x7f9f999a1d30>"
            ]
          },
          "metadata": {
            "tags": []
          },
          "execution_count": 40
        },
        {
          "output_type": "display_data",
          "data": {
            "image/png": "[encoded data removed]",
            "text/plain": [
              "<Figure size 432x432 with 3 Axes>"
            ]
          },
          "metadata": {
            "tags": []
          }
        }
      ]
    },
    {
      "cell_type": "code",
      "metadata": {
        "id": "YL9d2JPGsTJe",
        "colab_type": "code",
        "outputId": "a83ba03c-8c97-43ed-86ba-b62d37e4c4dc",
        "colab": {
          "base_uri": "https://localhost:8080/",
          "height": 458
        }
      },
      "source": [
        "sns.jointplot(x='u_a',y='I',data=dataset)"
      ],
      "execution_count": 41,
      "outputs": [
        {
          "output_type": "execute_result",
          "data": {
            "text/plain": [
              "<seaborn.axisgrid.JointGrid at 0x7f9f99841358>"
            ]
          },
          "metadata": {
            "tags": []
          },
          "execution_count": 41
        },
        {
          "output_type": "display_data",
          "data": {
            "image/png": "[encoded data removed]",
            "text/plain": [
              "<Figure size 432x432 with 3 Axes>"
            ]
          },
          "metadata": {
            "tags": []
          }
        }
      ]
    },
    {
      "cell_type": "markdown",
      "metadata": {
        "id": "5ULycpJurUpJ",
        "colab_type": "text"
      },
      "source": [
        "Here you have graphs made from data with different levels of noise."
      ]
    },
    {
      "cell_type": "code",
      "metadata": {
        "id": "huIeJM7hfPxL",
        "colab_type": "code",
        "outputId": "87a20741-5403-4bf0-8a72-ce8bc3c73c01",
        "colab": {
          "base_uri": "https://localhost:8080/",
          "height": 458
        }
      },
      "source": [
        "sns.jointplot(x='I',y='theta_p',data=dataset) #motorDataNoisy"
      ],
      "execution_count": 42,
      "outputs": [
        {
          "output_type": "execute_result",
          "data": {
            "text/plain": [
              "<seaborn.axisgrid.JointGrid at 0x7f9f996db940>"
            ]
          },
          "metadata": {
            "tags": []
          },
          "execution_count": 42
        },
        {
          "output_type": "display_data",
          "data": {
            "image/png": "[encoded data removed]",
            "text/plain": [
              "<Figure size 432x432 with 3 Axes>"
            ]
          },
          "metadata": {
            "tags": []
          }
        }
      ]
    },
    {
      "cell_type": "code",
      "metadata": {
        "id": "hiIAM2_bfDi1",
        "colab_type": "code",
        "outputId": "c04a9751-3604-4add-9935-8775ae0fd006",
        "colab": {
          "base_uri": "https://localhost:8080/",
          "height": 458
        }
      },
      "source": [
        "sns.jointplot(x='I',y='theta_p',data=dataset) #motorDataNoisy2"
      ],
      "execution_count": 43,
      "outputs": [
        {
          "output_type": "execute_result",
          "data": {
            "text/plain": [
              "<seaborn.axisgrid.JointGrid at 0x7f9f9957c2e8>"
            ]
          },
          "metadata": {
            "tags": []
          },
          "execution_count": 43
        },
        {
          "output_type": "display_data",
          "data": {
            "image/png": "[encoded data removed]",
            "text/plain": [
              "<Figure size 432x432 with 3 Axes>"
            ]
          },
          "metadata": {
            "tags": []
          }
        }
      ]
    },
    {
      "cell_type": "code",
      "metadata": {
        "id": "SCgxA5LUQyuB",
        "colab_type": "code",
        "outputId": "818f229b-7f8f-4993-dddb-9c0ef8f7b776",
        "colab": {
          "base_uri": "https://localhost:8080/",
          "height": 458
        }
      },
      "source": [
        "sns.jointplot(x='I',y='theta_p',data=dataset) #motorDataNoisy3"
      ],
      "execution_count": 44,
      "outputs": [
        {
          "output_type": "execute_result",
          "data": {
            "text/plain": [
              "<seaborn.axisgrid.JointGrid at 0x7f9f993bf7b8>"
            ]
          },
          "metadata": {
            "tags": []
          },
          "execution_count": 44
        },
        {
          "output_type": "display_data",
          "data": {
            "image/png": "[encoded data removed]",
            "text/plain": [
              "<Figure size 432x432 with 3 Axes>"
            ]
          },
          "metadata": {
            "tags": []
          }
        }
      ]
    },
    {
      "cell_type": "markdown",
      "metadata": {
        "id": "dY0vwC3bsc_D",
        "colab_type": "text"
      },
      "source": [
        "Explain why a **linear** regressor with the clean data (i.e., without noise), gives a perfect score even if the graphs above show **non-linear** relations between some features. Is it also related with the amount of data? **(1.0 marks)**."
      ]
    },
    {
      "cell_type": "markdown",
      "metadata": {
        "id": "esVH0xtRyQGd",
        "colab_type": "text"
      },
      "source": [
        "In the case where there is no presence of noise, according to the relation obtained by the electrical analysis, there is a linear relation between the hypotesis function  hθ=IR  and the weighted sum of the other relevant parameters ('Ip','theta_p','u_a'). It doesn't matter if there is no linear relation between the features, there is no reason for that. There could exist nonlinearities that are canceled with the execution of the weighted sum. Also, it is not related with the amount of data."
      ]
    },
    {
      "cell_type": "markdown",
      "metadata": {
        "id": "s_pvvunctw5P",
        "colab_type": "text"
      },
      "source": [
        "### Results Verification"
      ]
    },
    {
      "cell_type": "markdown",
      "metadata": {
        "id": "Oey_7pSmjU17",
        "colab_type": "text"
      },
      "source": [
        "**Verify your results with the following paper**:\n",
        "Virgala, I. , & Kenderová, P. F. M. (2013). Friction Effect Analysis of a DC Motor. American Journal of Mechanical Engineering, 1(1), 1-5."
      ]
    },
    {
      "cell_type": "markdown",
      "metadata": {
        "id": "nuW_buTyyxIY",
        "colab_type": "text"
      },
      "source": [
        "# Appendix: Codes for Google Drive Sync"
      ]
    },
    {
      "cell_type": "code",
      "metadata": {
        "id": "nrq--2G3y2AV",
        "colab_type": "code",
        "colab": {}
      },
      "source": [
        "#LOAD THE DRIVE HELPER AND MOUNT\n",
        "from google.colab import drive\n",
        "\n",
        "#THIS WILL PROMPT FOR AUTHORIZATION\n",
        "drive.mount('/content/drive')\n",
        "\n",
        "!ls \"/content/drive/My Drive/ZZZ\" #ROUTING EXAMPLE\n",
        "#/content/drive ROOT DIRECTORY"
      ],
      "execution_count": 0,
      "outputs": []
    }
  ]
}